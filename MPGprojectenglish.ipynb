{
 "cells": [
  {
   "cell_type": "code",
   "execution_count": null,
   "id": "6b76f16e-f6e6-49ce-8fa8-53e3efd22385",
   "metadata": {},
   "outputs": [],
   "source": [
    "import pandas as pd\n",
    "import unicodedata"
   ]
  },
  {
   "cell_type": "code",
   "execution_count": null,
   "id": "5ee60b3f-9b94-4ba2-afbf-7314845a5835",
   "metadata": {},
   "outputs": [],
   "source": [
    "df = pd.read_csv('statsmpg.csv', sep=';', encoding='latin1')\n",
    "# Import the CSV file. After encountering an error with the default UTF-8 encoding,\n",
    "# using Latin-1 resolves the issue and displays the data."
   ]
  },
  {
   "cell_type": "code",
   "execution_count": null,
   "id": "a35db4cf-e424-4f0f-81d1-64d6debfe162",
   "metadata": {},
   "outputs": [],
   "source": [
    "df.head()"
   ]
  },
  {
   "cell_type": "code",
   "execution_count": null,
   "id": "6e7a1bad-02c3-4d84-af3e-1ce367bea5a7",
   "metadata": {},
   "outputs": [],
   "source": [
    "#Header =2 to optimise the index"
   ]
  },
  {
   "cell_type": "code",
   "execution_count": null,
   "id": "a0355202-d1f9-45f9-86ba-3426307317a6",
   "metadata": {},
   "outputs": [],
   "source": [
    "# change the index of the header\n",
    "df = pd.read_csv('statsmpg.csv', sep=';', encoding='latin1', header=2)\n",
    "df.head()"
   ]
  },
  {
   "cell_type": "code",
   "execution_count": null,
   "id": "bf9f11ae-54e4-49a8-846c-06b20cfbd7e8",
   "metadata": {},
   "outputs": [],
   "source": [
    "pd.set_option('display.max_columns', None)\n",
    "\n",
    "df.describe()\n",
    "\n",
    "# There are 124 columns. We need to check their type and delete the useless ones"
   ]
  },
  {
   "cell_type": "code",
   "execution_count": null,
   "id": "020f99b4-b384-4c07-95d9-ae61a8a01e65",
   "metadata": {},
   "outputs": [],
   "source": [
    "# Calculate the NaN rate for each column in percentage\n",
    "taux_nan_par_colonne = df.isna().mean() * 100\n",
    "\n",
    "# Display by group of 20\n",
    "for i in range(0, len(taux_nan_par_colonne), 20):  # Divide by group of 20 columns\n",
    "    print(taux_nan_par_colonne[i:i+20])\n",
    "    print(\"\\n\")  # Add an empty line to separate the group"
   ]
  },
  {
   "cell_type": "code",
   "execution_count": null,
   "id": "bd0523a8-897b-428a-a56a-1f093fa14fb9",
   "metadata": {},
   "outputs": [],
   "source": [
    "print(df.dtypes)\n",
    "#Visualize the type of data for each column"
   ]
  },
  {
   "cell_type": "code",
   "execution_count": null,
   "id": "c4ddc175-1094-4ff6-9c7b-bb24a76a4ce4",
   "metadata": {},
   "outputs": [],
   "source": [
    "#  Read the CSV file in batches of 1000 rows\n",
    "for i in range(0, len(df.columns), 20):  # Divide by group of 20 columns\n",
    "    print(df.dtypes[i:i+20])\n",
    "    print(\"\\n\")  # Add an empty line to separate"
   ]
  },
  {
   "cell_type": "code",
   "execution_count": null,
   "id": "bbf76f30-4656-40b7-8154-cc78324da96b",
   "metadata": {
    "scrolled": true
   },
   "outputs": [],
   "source": [
    "for i in range(0, len(df.columns), 20):print(df.isnull().sum()[i:i+20])  # display the number of nulle value\n",
    "print(\"\\n\") "
   ]
  },
  {
   "cell_type": "code",
   "execution_count": null,
   "id": "b7032355-d825-492e-aec6-b4c033ef9811",
   "metadata": {},
   "outputs": [],
   "source": [
    "print(len(df))"
   ]
  },
  {
   "cell_type": "code",
   "execution_count": null,
   "id": "6e826498-b5d3-443a-be88-e3b9ef9ec264",
   "metadata": {},
   "outputs": [],
   "source": [
    "# 1) Normalise the columns name\n",
    "def normalize_list(lst):\n",
    "    return [unicodedata.normalize('NFC', c.strip()) for c in lst]\n",
    "\n",
    "df.columns = normalize_list(df.columns)\n",
    "#create the column that we will keep\n",
    "colonnes_utiles = [\n",
    "    \"Joueur\", \"Poste\", \"Cote\", \"Var cote\", \"Enchère moy\", \"% achat\", \"% achat tour 1\",\n",
    "    \"Nb match\", \"But\", \"%Titu\", \"Temps\", \"Tps moy\", \"Min/But\", \"Prix/but\",\n",
    "    \"But/Peno\", \"Pass decis.\", \"Occas° créée\", \"Tirs\", \"Tirs cadrés\", \"Corner gagné\",\n",
    "    \"Ballons\", \"Interceptions\", \"Tacles\", \"%Duel\", \"Fautes\", \"Dégagements\",\n",
    "    \"Ballon perdu\", \"Grosse occas manquée\", \"But/Coup-franc\", \"Note\"\n",
    "]\n",
    "\n",
    "# useful_columns = [\"Player\", \"Position\", \"Rating\", \"Rating Change\", \n",
    "# \"Average Bid\", \"% Purchased\", \"% Purchased Round 1\",\"Matches Played\", \"Goals\", \n",
    "#\"% Started\", \"Minutes Played\", \"Avg Minutes\", \"Min per Goal\", \"Price per Goal\",\"Goals per Penalty\",\n",
    "# \"Assists\", \"Chances Created\", \"Shots\", \"Shots on Target\", \"Corners Won\",\"Touches\", \"Interceptions\", \"Tackles\", \n",
    "#\"% Duels Won\", \"Fouls\", \"Clearances\",\"Balls Lost\", \"goals on freekick\", \"Big Missed Chances\", \"rate\"\n",
    "\n",
    "df = df[colonnes_utiles]"
   ]
  },
  {
   "cell_type": "code",
   "execution_count": null,
   "id": "4cfaf6dd-6e4d-4345-bbfe-f0a1fcb79cfe",
   "metadata": {},
   "outputs": [],
   "source": [
    "df"
   ]
  },
  {
   "cell_type": "code",
   "execution_count": null,
   "id": "07a067f6-943f-463d-b9c4-088550343fbf",
   "metadata": {},
   "outputs": [],
   "source": [
    "df_clean = df.fillna(0)\n",
    "#replace the missing values by 0"
   ]
  },
  {
   "cell_type": "code",
   "execution_count": null,
   "id": "eeaebad6-3776-450e-8a9e-f984e7519726",
   "metadata": {},
   "outputs": [],
   "source": [
    "df_clean"
   ]
  },
  {
   "cell_type": "code",
   "execution_count": null,
   "id": "6623ad98-c296-417c-b9f3-1d8395107df8",
   "metadata": {},
   "outputs": [],
   "source": [
    "df_clean.isna().sum()\n",
    "#check there is no missing values anymore\n"
   ]
  },
  {
   "cell_type": "code",
   "execution_count": null,
   "id": "3cea224a-7061-4f46-88a0-4e36c3b3bd04",
   "metadata": {},
   "outputs": [],
   "source": [
    "for i in range(0, len(df.columns), 30):  \n",
    "    print(df_clean.dtypes[i:i+30])\n",
    "    print(\"\\n\")  "
   ]
  },
  {
   "cell_type": "code",
   "execution_count": null,
   "id": "dd40b9c2-5f13-4f73-978e-e0b6f9cb49c3",
   "metadata": {},
   "outputs": [],
   "source": [
    "cols_to_convert = [\"Enchère moy\", \"% achat\", \"% achat tour 1\", \"%Titu\", \"Prix/but\", \"%Duel\"]\n",
    "df_clean[cols_to_convert] = df_clean[cols_to_convert].apply(pd.to_numeric, errors='coerce')\n",
    "#Some columsn needs to be converted because their type doesn't match"
   ]
  },
  {
   "cell_type": "code",
   "execution_count": null,
   "id": "d063a8e6-8969-4de4-8c8d-7f1130c0960d",
   "metadata": {},
   "outputs": [],
   "source": [
    "for i in range(0, len(df.columns), 30):  \n",
    "    print(df_clean.dtypes[i:i+30])\n",
    "    print(\"\\n\")  "
   ]
  },
  {
   "cell_type": "code",
   "execution_count": null,
   "id": "abc9d31e-f3ce-4048-b908-db3b0c740c1d",
   "metadata": {},
   "outputs": [],
   "source": [
    "print(df_clean.isna().sum())"
   ]
  },
  {
   "cell_type": "code",
   "execution_count": null,
   "id": "545501c2-000c-4ffb-a481-e18cbf0a0e6f",
   "metadata": {},
   "outputs": [],
   "source": [
    "df_clean['Enchère moy'] = df_clean['Enchère moy'].fillna(0)\n",
    "df_clean['% achat'] = df_clean['% achat'].fillna(0)  # Replace with 0 if percentages are not informative\n",
    "df_clean['% achat tour 1'] = df_clean['% achat tour 1'].fillna(0)  # Replace by 0\n",
    "df_clean['%Titu'] = df_clean['%Titu'].fillna(0)  # Replace with 0 or a default value\n",
    "df_clean['Prix/but'] = df_clean['Prix/but'].fillna(df_clean['Prix/but'].mean())\n",
    "df_clean['%Duel'] = df_clean['%Duel'].fillna(0)  # Replace by 0\n"
   ]
  },
  {
   "cell_type": "code",
   "execution_count": null,
   "id": "0cd7b0d8-523b-492f-8f06-fb77d073d2b9",
   "metadata": {},
   "outputs": [],
   "source": [
    "print(df_clean.isna().sum())"
   ]
  },
  {
   "cell_type": "raw",
   "id": "2c779693-310a-40bc-8961-8ecf574bb270",
   "metadata": {},
   "source": [
    "print(df_clean)"
   ]
  },
  {
   "cell_type": "code",
   "execution_count": null,
   "id": "54fd7397-6df3-470f-b007-3a4a8971551e",
   "metadata": {},
   "outputs": [],
   "source": [
    "#Graph"
   ]
  },
  {
   "cell_type": "code",
   "execution_count": null,
   "id": "0cce61c4-f9e1-4c82-8524-a88e769149fd",
   "metadata": {},
   "outputs": [],
   "source": [
    "#Creating the value‑for‑money and performance columns.\n",
    "\n",
    "# Create the Overall Performance column.\n",
    "df_clean['Performance globale'] = df_clean['But'] + df_clean['Pass decis.'] + df_clean['Interceptions'] + df_clean['%Duel']\n",
    "\n",
    "# Display the first rows to verify\n",
    "print(df_clean[['Joueur', 'But', 'Pass decis.', 'Interceptions', '%Duel', 'Performance globale']].head())\n",
    "\n",
    "\n",
    "# Create the value‑for‑money ratio column\n",
    "df_clean['Rapport qualité/prix'] = df_clean['Performance globale'] / df_clean['Enchère moy']\n",
    "\n",
    "# Display the first rows to verify\n",
    "print(df_clean[['Joueur', 'Performance globale', 'Enchère moy', 'Rapport qualité/prix']].head())\n",
    "\n",
    "\n"
   ]
  },
  {
   "cell_type": "code",
   "execution_count": null,
   "id": "407887f3-f9d3-4d28-989e-b386fd125b09",
   "metadata": {},
   "outputs": [],
   "source": [
    "#Scatter plot\n",
    "\n",
    "import seaborn as sns\n",
    "import matplotlib.pyplot as plt\n",
    "\n",
    "# Create the overall performance metric\n",
    "df_clean['Performance globale'] = df_clean['But'] + df_clean['Pass decis.'] + df_clean['Interceptions'] + df_clean['%Duel']\n",
    "\n",
    "# Scatterplot\n",
    "plt.figure(figsize=(10, 6))\n",
    "sns.scatterplot(data=df_clean, x='Enchère moy', y='Performance globale', hue='Poste', palette='viridis', s=100)\n",
    "plt.title('Price vs global performance', fontsize=16)\n",
    "plt.xlabel('Average price (average bid)', fontsize=12)\n",
    "plt.ylabel('Global performance', fontsize=12)\n",
    "plt.legend(title='position')\n",
    "plt.grid(True)\n",
    "plt.show()\n"
   ]
  },
  {
   "cell_type": "code",
   "execution_count": null,
   "id": "6c150f3e-4761-43fb-be40-e8b81d3fc5ee",
   "metadata": {},
   "outputs": [],
   "source": [
    "#2. Boxplot of prices by position\n",
    "\n",
    "plt.figure(figsize=(10, 6))\n",
    "sns.boxplot(data=df_clean, x='Poste', y='Enchère moy', hue='Poste', palette='Set2', legend=False)\n",
    "plt.title('Repartition of price by position', fontsize=16)\n",
    "plt.xlabel('Position', fontsize=12)\n",
    "plt.ylabel('Average price (average bid)', fontsize=12)\n",
    "plt.grid(True)\n",
    "plt.show()\n"
   ]
  },
  {
   "cell_type": "code",
   "execution_count": null,
   "id": "0bc21938-7c01-40d5-adea-0a44768df4db",
   "metadata": {},
   "outputs": [],
   "source": [
    "#3 Histogram of the value‑for‑money ratio\n",
    "\n",
    "# Create a value‑for‑money ratio metric\n",
    "df_clean['Rapport qualité/prix'] = df_clean['Performance globale'] / df_clean['Enchère moy']\n",
    "\n",
    "# Histogram\n",
    "plt.figure(figsize=(10, 6))\n",
    "sns.histplot(data=df_clean, x='Rapport qualité/prix', bins=30, kde=True, color='blue')\n",
    "plt.title('Distribution of the value‑for‑money ratio', fontsize=16)\n",
    "plt.xlabel('Value‑for‑money ratio', fontsize=12)\n",
    "plt.ylabel('Number of players', fontsize=12)\n",
    "plt.grid(True)\n",
    "plt.show()"
   ]
  },
  {
   "cell_type": "code",
   "execution_count": null,
   "id": "de335939-9a30-4861-bfa4-52a4dc3638fa",
   "metadata": {},
   "outputs": [],
   "source": [
    "#4. Barplot of the top 5 undervalued players by position\n",
    "import numpy as np\n",
    "\n",
    "# Replace infinite values with NaN\n",
    "df_clean['Rapport qualité/prix'] = df_clean['Rapport qualité/prix'].replace([np.inf, -np.inf], np.nan)\n",
    "\n",
    "# Remplace NaN by 0\n",
    "df_clean['Rapport qualité/prix'] = df_clean['Rapport qualité/prix'].fillna(0)\n",
    "\n",
    "# Sort the DataFrame by Position and value‑for‑money ratio (descending)\n",
    "df_sorted = df_clean.sort_values(by=['Poste', 'Rapport qualité/prix'], ascending=[True, False])\n",
    "\n",
    "# Select the top 5 players for each position\n",
    "top_5_par_poste = df_sorted.groupby('Poste').head(5).reset_index(drop=True)\n",
    "\n",
    "# Barplot\n",
    "plt.figure(figsize=(12, 8))\n",
    "sns.barplot(data=top_5_par_poste, x='Joueur', y='Rapport qualité/prix', hue='Poste', palette='coolwarm', dodge=False)\n",
    "plt.title('Top 5 undervalued players by position', fontsize=16)\n",
    "plt.xlabel('Player', fontsize=12)\n",
    "plt.ylabel('Value‑for‑money ratio', fontsize=12)\n",
    "plt.xticks(rotation=45)\n",
    "plt.legend(title='Position')\n",
    "plt.grid(True)\n",
    "\n",
    "# Adjust the y‑axis limits if necessary\n",
    "plt.ylim(0, top_5_par_poste['Rapport qualité/prix'].max() * 1.1)  # Add a 10% margin to the y‑axis\n",
    "\n",
    "plt.show()"
   ]
  },
  {
   "cell_type": "code",
   "execution_count": null,
   "id": "b8523946-3e49-4fc8-93cc-fd0d84e0723b",
   "metadata": {},
   "outputs": [],
   "source": [
    "#5 Correlation of key actions vs. price\n",
    "\n",
    "# Select relevant columns\n",
    "actions_cles = ['But', 'Pass decis.', 'Interceptions', '%Duel', 'Tirs cadrés', 'Cote'] # goal, assist, interceptions, %dual, shoots on target\n",
    "df_heatmap = df_clean[actions_cles + ['Enchère moy']]\n",
    "\n",
    "\n",
    "# Compute the correlation\n",
    "correlation = df_heatmap.corr()\n",
    "\n",
    "# matrix\n",
    "plt.figure(figsize=(10, 6))\n",
    "sns.heatmap(correlation, annot=True, cmap='coolwarm', fmt='.2f')\n",
    "plt.title('Correlation between key actions and average price', fontsize=16)\n",
    "plt.show()"
   ]
  },
  {
   "cell_type": "code",
   "execution_count": null,
   "id": "b8f5c229-a1ef-469c-9921-b1dd19f15255",
   "metadata": {},
   "outputs": [],
   "source": [
    "#Descriptive statistics by position\n",
    "\n",
    "# Descriptive statistics by position\n",
    "stats_par_poste = df_clean.groupby('Poste')['Rapport qualité/prix'].agg(['mean', 'median', 'std', 'min', 'max'])\n",
    "print(stats_par_poste)"
   ]
  },
  {
   "cell_type": "code",
   "execution_count": null,
   "id": "98c76161-6fe6-4a07-991a-c770210e1d7e",
   "metadata": {},
   "outputs": [],
   "source": [
    "#Correlations between variables\n",
    "\n",
    "# Compute the correlation matrix\n",
    "correlation_matrix = df_clean[['Enchère moy', 'Performance globale', 'Temps', 'But', 'Pass decis.', 'Interceptions', '%Duel', 'Cote']].corr()\n",
    "\n",
    "# average bid, global performance, time (played), goal, assist, interceptions, %dual\n",
    "\n",
    "# Display the correlation heatmap\n",
    "plt.figure(figsize=(10, 8))\n",
    "sns.heatmap(correlation_matrix, annot=True, cmap='coolwarm', fmt='.2f')\n",
    "plt.title('Correlation matrix', fontsize=16)\n",
    "plt.show()"
   ]
  },
  {
   "cell_type": "code",
   "execution_count": null,
   "id": "569b5c20-800d-4b6e-97a3-d4c58db1cf62",
   "metadata": {},
   "outputs": [],
   "source": [
    "#Performance by position\n",
    "\n",
    "# Boxplot of overall performance by position\n",
    "plt.figure(figsize=(10, 6))\n",
    "sns.boxplot(data=df_clean, x='Poste', y='Performance globale', palette='Set2')\n",
    "plt.title('Distribution of overall performance by position', fontsize=16)\n",
    "plt.xlabel('Position', fontsize=12)\n",
    "plt.ylabel('Global performance', fontsize=12)\n",
    "plt.grid(True)\n",
    "plt.show()"
   ]
  },
  {
   "cell_type": "code",
   "execution_count": null,
   "id": "bd154b16-0b5a-49f4-8aa6-dba445265aed",
   "metadata": {},
   "outputs": [],
   "source": [
    "#Most undervalued players\n",
    "\n",
    "from scipy.stats import zscore\n",
    "\n",
    "# Compute the z‑score of the value‑for‑money ratio\n",
    "df_clean['Z-score'] = zscore(df_clean['Rapport qualité/prix'])\n",
    "\n",
    "# Select the most undervalued players (negative z‑score)\n",
    "joueurs_sous_cotes = df_clean[df_clean['Z-score'] < 0].sort_values(by='Z-score').head(10)\n",
    "print(joueurs_sous_cotes[['Joueur', 'Poste', 'Rapport qualité/prix', 'Z-score']])"
   ]
  },
  {
   "cell_type": "code",
   "execution_count": null,
   "id": "17ed7eb5-77a9-4964-94d4-075d8925c197",
   "metadata": {},
   "outputs": [],
   "source": [
    "#Performance and playtime\n",
    "\n",
    "# Scatter plot: Playtime vs Overall Performance\n",
    "plt.figure(figsize=(10, 6))\n",
    "sns.scatterplot(data=df_clean, x='Temps', y='Performance globale', hue='Poste', palette='viridis', s=100)\n",
    "plt.title('Playtime vs Overall Performance', fontsize=16)\n",
    "plt.xlabel('Playtime', fontsize=12)\n",
    "plt.ylabel('Globale performance', fontsize=12)\n",
    "plt.legend(title='Position',\n",
    "    loc='upper left',\n",
    "    bbox_to_anchor=(1.02, 1),\n",
    "    borderaxespad=0)\n",
    "plt.grid(True)\n",
    "plt.show()"
   ]
  },
  {
   "cell_type": "code",
   "execution_count": null,
   "id": "e46be695-e6d3-4331-b6ff-8c3362df3af0",
   "metadata": {},
   "outputs": [],
   "source": [
    "#Goals and assists\n",
    "\n",
    "# Create a goals + assists metric\n",
    "df_clean['Buts + Passes'] = df_clean['But'] + df_clean['Pass decis.']\n",
    "\n",
    "# Scatter plot: Goals + Assists vs Price\n",
    "plt.figure(figsize=(10, 6))\n",
    "sns.scatterplot(data=df_clean, x='Buts + Passes', y='Enchère moy', hue='Poste', palette='viridis', s=100)\n",
    "plt.title('Goals + Assists vs Price', fontsize=16)\n",
    "plt.xlabel('Goals + Assists', fontsize=12)\n",
    "plt.ylabel('Average price( average bid)', fontsize=12)\n",
    "plt.legend(title='Position')\n",
    "plt.grid(True)\n",
    "plt.show()"
   ]
  },
  {
   "cell_type": "code",
   "execution_count": null,
   "id": "d78464fa-8cae-450f-ace3-0e896dfd9568",
   "metadata": {},
   "outputs": [],
   "source": [
    "#Defenders and goalkeepers\n",
    "\n",
    "# Filter central defenders (DC), fullbacks (DL), and goalkeepers (G\n",
    "df_defenseurs_gardiens = df_clean[df_clean['Poste'].isin(['DC', 'DL', 'G'])]\n",
    "\n",
    "# Ensure the ‘Position’ column exists and contains valid values\n",
    "if 'Poste' in df_defenseurs_gardiens.columns:\n",
    "    # Scatter plot: Interceptions vs Price\n",
    "    plt.figure(figsize=(10, 6))\n",
    "    sns.scatterplot(\n",
    "        data=df_defenseurs_gardiens,\n",
    "        x='Interceptions',\n",
    "        y='Enchère moy',\n",
    "        hue='Poste',  # Use ‘Position’ for color\n",
    "        palette='Set2',\n",
    "        s=100\n",
    "    )\n",
    "    plt.title('Interceptions vs Prix (DC, DL, G)', fontsize=16)\n",
    "    plt.xlabel('Interceptions', fontsize=12)\n",
    "    plt.ylabel('Prix moyen (Enchère moy)', fontsize=12)\n",
    "    plt.legend(title='Poste')  # Add a legend\n",
    "    plt.grid(True)\n",
    "    plt.show()"
   ]
  },
  {
   "cell_type": "code",
   "execution_count": null,
   "id": "3db63a10-7fd3-45d8-9c65-4042d02de7a9",
   "metadata": {},
   "outputs": [],
   "source": [
    "#Analysis based on bidding\n",
    "\n",
    "# Scatter plot: Rating vs value‑for‑money ratio\n",
    "plt.figure(figsize=(10, 6))\n",
    "sns.scatterplot(data=df_clean, x='Cote', y='Rapport qualité/prix', hue='Poste', palette='coolwarm', s=100)\n",
    "plt.title('Value vs value for money ratio', fontsize=16)\n",
    "plt.xlabel('Value', fontsize=12)\n",
    "plt.ylabel('Rapport qualité/prix', fontsize=12)\n",
    "plt.legend(title='Position')\n",
    "plt.grid(True)\n",
    "plt.show()"
   ]
  },
  {
   "cell_type": "code",
   "execution_count": null,
   "id": "1ed41ef2-3b98-4a18-986f-897a80f56f95",
   "metadata": {},
   "outputs": [],
   "source": [
    "#Save the final file that will be used for data visualization with Power BI.\n",
    "\n",
    "df_clean.to_csv('df_clean.csv', index=False)"
   ]
  },
  {
   "cell_type": "code",
   "execution_count": null,
   "id": "9fd9c7d7-40ed-4fd3-8ba4-b980889e38d7",
   "metadata": {},
   "outputs": [],
   "source": [
    "# Dataframe creation by position by removing variables empty or none for each dataframe\n",
    "\n",
    "dataframes = {\n",
    "    'Striker'          : df[df['Poste'] == 'A'],\n",
    "    'Offensive mid'   : df[df['Poste'] == 'MO'],\n",
    "    'Defensive mid'   : df[df['Poste'] == 'MD'],\n",
    "    'Fullback' : df[df['Poste'] == 'DL'],\n",
    "    'Centerback' : df[df['Poste'] == 'DC'],\n",
    "    'Goalkeeper'            : df[df['Poste'] == 'G']\n",
    "}\n",
    "\n",
    "for name, dfposte in dataframes.items():\n",
    "    dataframes[name] = dfposte.dropna(axis=1, how='all')"
   ]
  },
  {
   "cell_type": "code",
   "execution_count": null,
   "id": "9022ff6a-55dc-4330-8e49-4bb514a5379e",
   "metadata": {},
   "outputs": [],
   "source": [
    "# % of the missnig value\n",
    "\n",
    "missing_dict = {}\n",
    "\n",
    "# Loop for each dataframe\n",
    "for name, df in dataframes.items():\n",
    "    # % of missing values\n",
    "    missing_values = df.isna().mean() * 100\n",
    "    missing_values = missing_values[missing_values > 0]\n",
    "\n",
    "    if not missing_values.empty:  # check\n",
    "        missing_dict[name] = missing_values.round(2)\n",
    "\n",
    "# Dataframe creation\n",
    "final_result = pd.DataFrame(missing_dict).fillna(' ')\n",
    "\n",
    "print('Pourcentage de valeurs manquantes')\n",
    "display(final_result)"
   ]
  },
  {
   "cell_type": "code",
   "execution_count": null,
   "id": "8e400f90-6f96-4967-8046-5d28454b84b0",
   "metadata": {},
   "outputs": [],
   "source": [
    "with pd.ExcelWriter('stats_joueurs.xlsx', engine='openpyxl') as writer:\n",
    "    for name, df_sheet in dataframes.items():\n",
    "        df_sheet.to_excel(writer, sheet_name=name, index=True)\n",
    "print(\"Le fichier 'stats_joueurs.xlsx' a été créé.\")"
   ]
  },
  {
   "cell_type": "code",
   "execution_count": null,
   "id": "a2d378c9-01b9-42e9-954b-6ea4994abc2c",
   "metadata": {},
   "outputs": [],
   "source": [
    "# categoraisation of the relevant stats to the posiiton\n",
    "\n",
    "categories = {\n",
    "    'Striker': [\n",
    "        'But', 'Pass decis.', 'Occas° créée', 'Tirs', 'Tirs cadrés', \n",
    "        'Corner gagné', 'Grosse occas manquée', 'Balle non rattrapée', 'But/Peno', 'But/Coup-franc', 'Cote'\n",
    "    ],\n",
    "    'Offensive mid': [\n",
    "        'But', 'Pass decis.', 'Occas° créée', 'Tirs', 'Tirs cadrés', 'Corner gagné', '%Passes',\n",
    "        'Ballons', 'Fautes', 'Poss Mil', 'Centres', 'Dépossédé','Cote'\n",
    "    ],\n",
    "    'Defensive mid': [\n",
    "        'Pass decis.', 'Interceptions', 'Tacles', '%Duel', 'Fautes', 'Poss Def', 'Ballons', 'Dépossédé', 'Cote'\n",
    "    ],\n",
    "    'Fullback': [\n",
    "        'Cleansheet', 'Interceptions', 'Tacles', 'Centres', 'Centres ratés', 'Fautes', 'Poss Mil', 'Corner gagné', 'Cote'\n",
    "    ],\n",
    "    'Centerback': [\n",
    "        'Cleansheet', 'Interceptions', 'Tacles', '%Duel', 'Fautes', 'Poss Def', 'But concédé', 'Erreur>But', 'Diff de buts', 'Cote'\n",
    "    ],\n",
    "    'Goalkeeper': [\n",
    "        'Cleansheet', 'But évité', 'Action stoppée', 'Dégagements', 'But concédé', 'Plonge&stop', 'Erreur>But', 'Diff de buts', 'Cote'\n",
    "    ]\n",
    "}\n",
    "\n",
    "columns_initiales = ['Joueur', 'Poste', 'Cote', 'Enchère moy', '% achat', 'Nb match']\n",
    "\n",
    "dataframes_categorises = {}\n",
    "\n",
    "fichier_excel = 'stats_poste.xlsx'\n",
    "\n",
    "with pd.ExcelWriter(fichier_excel, engine='openpyxl') as writer:\n",
    "    for poste, df_poste in dataframes.items():\n",
    "        df_combined = df_poste[columns_initiales]\n",
    "\n",
    "        cols_to_add = [col for col in categories[poste] if col in df_poste.columns]\n",
    "        df_category = df_poste[cols_to_add]\n",
    "        df_category = df_category.fillna(0)\n",
    "        \n",
    "        # concatenation of the common column \n",
    "        df_final = pd.concat([df_combined, df_category], axis=1)\n",
    "\n",
    "   \n",
    "        dataframes_categorises[poste] = df_final  \n",
    "\n",
    "        df_final.to_excel(writer, sheet_name=poste, index=False)\n",
    "\n",
    "print(f\"the file'{fichier_excel}' has been created.\")\n",
    "print(\"The permanent Dataframes are stored in 'dataframes_categorises'.\")"
   ]
  },
  {
   "cell_type": "code",
   "execution_count": null,
   "id": "29e05d8c-4d43-41e6-9dc2-71a87ef78eaf",
   "metadata": {},
   "outputs": [],
   "source": [
    "\n",
    "nb_graphs = len(dataframes_categorises)\n",
    "fig, axes = plt.subplots(nrows=2, ncols=3, figsize=(30, 20)) \n",
    "\n",
    "fig.suptitle(\"Correlation matrix\", fontsize=30)\n",
    "\n",
    "axes = axes.flatten()\n",
    "\n",
    "# Loop on Dataframes and display of heatmap\n",
    "for i, (poste, df_final) in enumerate(dataframes_categorises.items()):\n",
    "    if i >= 6:  # 6 graph limit\n",
    "        break\n",
    "    df_numeric = df_final.select_dtypes(include='number')\n",
    "    corr_abs = df_numeric.corr().abs()\n",
    "\n",
    "    sns.heatmap(corr_abs, annot=True, cmap='coolwarm', fmt='.1f', cbar=False, square=True, ax=axes[i])\n",
    "    axes[i].set_title(f'{poste}', fontsize=24)  \n",
    "    axes[i].tick_params(axis='x', rotation=60)\n",
    "\n",
    "# space between graphs\n",
    "plt.subplots_adjust(hspace=0, wspace=-.4, top=1) \n",
    "\n",
    "plt.tight_layout() \n",
    "plt.show();"
   ]
  },
  {
   "cell_type": "code",
   "execution_count": null,
   "id": "6e6ba7d3-511a-495a-aa97-6b8ca185fb74",
   "metadata": {},
   "outputs": [],
   "source": [
    "# Example of calculation of the variable score with the variable 'But' du DataFrame 'Attaquants'\n",
    "\n",
    "from sklearn.preprocessing import MinMaxScaler\n",
    "\n",
    "df_attaquants = dataframes_categorises['Striker']\n",
    "scaler = MinMaxScaler(feature_range=(0, 100))\n",
    "        \n",
    "# Normalise only the column 'But'\n",
    "df_attaquants['Score'] = scaler.fit_transform(df_attaquants[['But']])\n",
    "        \n",
    "# Round to the nearest integer\n",
    "df_attaquants['Score'] = df_attaquants['Score'].round().astype(int)\n",
    "\n",
    "# Strikers ranking by 'Score' descending\n",
    "df_attaquants = df_attaquants.sort_values(by='Score', ascending=False)\n",
    "\n",
    "# Select the columns 'Joueur', 'But' et 'Score'\n",
    "df_affichage = df_attaquants[['Joueur', 'But', 'Score']]\n",
    "\n",
    "print(\"\\n The best 10 strikers following their score based on goals:\")\n",
    "display(df_affichage.head(10).style.hide(axis=\"index\"))"
   ]
  },
  {
   "cell_type": "code",
   "execution_count": null,
   "id": "fc67d3db-39e1-4597-b0be-77fe53642c8e",
   "metadata": {},
   "outputs": [],
   "source": [
    "# Example of calculation of the variable score with the variable 'But' et 'Tirs du DataFrame 'Attaquants'\n",
    "\n",
    "df_attaquants = dataframes_categorises['Striker']\n",
    "scaler = MinMaxScaler(feature_range=(0, 100))\n",
    "\n",
    "# Calculate individual scores\n",
    "df_attaquants['score_But'] = scaler.fit_transform(df_attaquants[['But']])\n",
    "df_attaquants['score_Tirs'] = scaler.fit_transform(df_attaquants[['Tirs']])\n",
    "\n",
    "# Calculate globale score as average of both\n",
    "df_attaquants['Score'] = ((df_attaquants['score_But'] + df_attaquants['score_Tirs']) / 2).round().astype(int)\n",
    "\n",
    "# round the individual scores\n",
    "df_attaquants['score_But'] = df_attaquants['score_But'].round().astype(int)\n",
    "df_attaquants['score_Tirs'] = df_attaquants['score_Tirs'].round().astype(int)\n",
    "\n",
    "# rank the strikers by descending 'Score'\n",
    "df_attaquants = df_attaquants.sort_values(by='Score', ascending=False)\n",
    "\n",
    "\n",
    "df_affichage = df_attaquants[['Joueur', 'But', 'Tirs', 'score_But', 'score_Tirs', 'Score']]\n",
    "\n",
    "print(\"\\nThe best 10 strikers following their score based on the goals and shoots:\")\n",
    "display(df_affichage.head(10).style.hide(axis=\"index\"))"
   ]
  },
  {
   "cell_type": "code",
   "execution_count": null,
   "id": "7b2633e5-39a0-4c9b-ae29-373d3c957a66",
   "metadata": {},
   "outputs": [],
   "source": [
    "from sklearn.preprocessing import MinMaxScaler\n",
    "\n",
    "fichier_excel_score = 'stats_poste_score.xlsx'\n",
    "\n",
    "with pd.ExcelWriter(fichier_excel_score, engine='openpyxl') as writer:\n",
    "    for poste, df in dataframes_categorises.items():\n",
    "        cols_score = [col for col in categories[poste] if col in df.columns]\n",
    "\n",
    "        if cols_score:\n",
    "            # 1) Conversion in float, the rest is NaN\n",
    "            df_numeric = df[cols_score].apply(pd.to_numeric, errors='coerce')\n",
    "\n",
    "            # 2) Ascending ranking  (1 = best)\n",
    "            df_scores = df_numeric.rank(ascending=True,\n",
    "                                       method='min',\n",
    "                                       na_option='bottom')\n",
    "\n",
    "            # 3) Inversion for negative metrics\n",
    "            for col in cols_score:\n",
    "                if col in inverse_metrics:\n",
    "                    df_scores[col] = df_numeric[col].rank(\n",
    "                        ascending=False,\n",
    "                        method='min',\n",
    "                        na_option='bottom'\n",
    "                    )\n",
    "\n",
    "            # 4) scale (0–100) for the average on rank\n",
    "            scaler = MinMaxScaler(feature_range=(0, 100))\n",
    "            moyennes = df_scores.mean(axis=1).values.reshape(-1, 1)\n",
    "            df['Score'] = scaler.fit_transform(moyennes).round().astype(int)\n",
    "\n",
    "            # 5) Descending triage\n",
    "            df = df.sort_values(by='Score', ascending=False)\n",
    "\n",
    "        df.to_excel(writer, sheet_name=poste, index=False)\n",
    "\n",
    "        \n",
    "        print(f\"\\nThe 5 {poste} by their score\")\n",
    "        display(df.head())\n",
    "\n",
    "print(f\"the file '{fichier_excel_score}' has been created.\")"
   ]
  },
  {
   "cell_type": "code",
   "execution_count": null,
   "id": "d551de91-afda-431e-b19d-3353ddd2be85",
   "metadata": {},
   "outputs": [],
   "source": [
    "# To prepare the filtered tables, a last filter needs to be realized\n",
    "\n",
    "fichier_excel_filtré = 'stats_poste_filtré.xlsx'\n",
    "\n",
    "# Function to get 90% of a variable maximum\n",
    "def get_90_percent_of_max(df, col):\n",
    "    return df[col].quantile(.9)\n",
    "\n",
    "with pd.ExcelWriter(fichier_excel_filtré, engine='openpyxl') as writer:\n",
    "    for poste, df in dataframes_categorises.items():\n",
    "        # select the columns\n",
    "        df_poste = df[columns_initiales + ['Score'] + categories[poste]]\n",
    "        \n",
    "        # Filter to keep the top 30 players depending on the score\n",
    "        df_poste_sorted = df_poste.sort_values(by='Score', ascending=False)\n",
    "        df_top_30 = df_poste_sorted.head(30)\n",
    "\n",
    "        # Filter the players having a value or average bid less than 90% of the maximum value, % of buying less than 90, and rating > 4,5\n",
    "        df_filtered = df_top_30[\n",
    "            ((df_top_30['Cote'] < get_90_percent_of_max(df_poste, 'Cote')) | \n",
    "            (df_top_30['Enchère moy'] < get_90_percent_of_max(df_poste, 'Enchère moy'))) & \n",
    "            (df_top_30['% achat'] < 90) & \n",
    "            (df_top_30['Note'] > 4.5) &\n",
    "            (df_top_30['Forme'] > 4.5)\n",
    "\n",
    "]\n",
    "\n",
    "        df_filtered.to_excel(writer, sheet_name=poste, index=False)\n",
    "\n",
    "      \n",
    "        print(f\"\\n Top 5 best{poste} after filtering\")\n",
    "        display(df_filtered.head())\n",
    "\n",
    "print(f\"the file '{fichier_excel_filtré}' has been created with the filtered players.\")"
   ]
  }
 ],
 "metadata": {
  "kernelspec": {
   "display_name": "Python [conda env:base] *",
   "language": "python",
   "name": "conda-base-py"
  },
  "language_info": {
   "codemirror_mode": {
    "name": "ipython",
    "version": 3
   },
   "file_extension": ".py",
   "mimetype": "text/x-python",
   "name": "python",
   "nbconvert_exporter": "python",
   "pygments_lexer": "ipython3",
   "version": "3.13.5"
  }
 },
 "nbformat": 4,
 "nbformat_minor": 5
}
